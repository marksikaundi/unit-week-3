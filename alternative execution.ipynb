{
 "cells": [
  {
   "cell_type": "markdown",
   "id": "5c1fb089",
   "metadata": {},
   "source": [
    "# welcome to University of the people "
   ]
  },
  {
   "cell_type": "code",
   "execution_count": 7,
   "id": "d87c374a",
   "metadata": {},
   "outputs": [
    {
     "name": "stdout",
     "output_type": "stream",
     "text": [
      "welcome to python programming\n"
     ]
    }
   ],
   "source": [
    "print(\"welcome to python programming\")"
   ]
  },
  {
   "cell_type": "code",
   "execution_count": null,
   "id": "76a74ee2",
   "metadata": {},
   "outputs": [],
   "source": [
    "if x % 2 == 0:\n",
    "    print('x is even')\n",
    "else:\n",
    "    print('x is odd')\n"
   ]
  },
  {
   "cell_type": "markdown",
   "id": "842c2dd0",
   "metadata": {},
   "source": [
    "# 5.6 Chained conditionals\n"
   ]
  },
  {
   "cell_type": "code",
   "execution_count": 10,
   "id": "220655b4",
   "metadata": {},
   "outputs": [
    {
     "ename": "SyntaxError",
     "evalue": "invalid syntax (Temp/ipykernel_7420/3630014681.py, line 1)",
     "output_type": "error",
     "traceback": [
      "\u001b[1;36m  File \u001b[1;32m\"C:\\Users\\EMMANU~1\\AppData\\Local\\Temp/ipykernel_7420/3630014681.py\"\u001b[1;36m, line \u001b[1;32m1\u001b[0m\n\u001b[1;33m    def x = is less than y\u001b[0m\n\u001b[1;37m          ^\u001b[0m\n\u001b[1;31mSyntaxError\u001b[0m\u001b[1;31m:\u001b[0m invalid syntax\n"
     ]
    }
   ],
   "source": [
    "\n",
    "if x < y:\n",
    "    print('x is less than y')\n",
    "elif x > y:\n",
    "    print('x is greater than y')\n",
    "else:\n",
    "    print('x and y are equal')\n",
    "#elif is an abbreviation of “else if”. Again, exactly one branch will run. There is no limit on\n",
    "#the number of elif statements. If there is an else clause, it has to be at the end, but there\n",
    "#doesn’t have to be one.\n",
    "if choice == 'a':\n",
    "    draw_a()\n",
    "elif choice == 'b':\n",
    "    draw_b()\n",
    "elif choice == 'c':\n",
    "    draw_c()\n",
    "#Each condition is checked in order. If the first is false, the next is checked, and so on. If one\n",
    "#of them is true, the corresponding branch runs and the statement ends. Even if more than\n",
    "#one condition is true, only the first true branch runs"
   ]
  },
  {
   "cell_type": "code",
   "execution_count": 14,
   "id": "50f46df7",
   "metadata": {},
   "outputs": [],
   "source": [
    "def print_n(s, n):\n",
    "    if n <= 0:\n",
    "        return\n",
    "    print(s)\n",
    "    print_n(s, n-1)"
   ]
  },
  {
   "cell_type": "code",
   "execution_count": null,
   "id": "9c3b7c89",
   "metadata": {},
   "outputs": [],
   "source": []
  }
 ],
 "metadata": {
  "kernelspec": {
   "display_name": "Python 3 (ipykernel)",
   "language": "python",
   "name": "python3"
  },
  "language_info": {
   "codemirror_mode": {
    "name": "ipython",
    "version": 3
   },
   "file_extension": ".py",
   "mimetype": "text/x-python",
   "name": "python",
   "nbconvert_exporter": "python",
   "pygments_lexer": "ipython3",
   "version": "3.9.7"
  }
 },
 "nbformat": 4,
 "nbformat_minor": 5
}
